{
 "cells": [
  {
   "cell_type": "markdown",
   "metadata": {},
   "source": [
    "# Trabalho de Processamento de Sinais Financeiros"
   ]
  },
  {
   "cell_type": "markdown",
   "metadata": {},
   "source": [
    "## Questões"
   ]
  },
  {
   "cell_type": "markdown",
   "metadata": {},
   "source": [
    "### 1. Colete os preços e volumes de um conjunto de ativos durante o período de 3 anos, pertencentes a no mínimo 5 Índices de Segmentos Setoriais diferentes na B3, e separe os 50 ativos mais líquidos;"
   ]
  },
  {
   "cell_type": "markdown",
   "metadata": {},
   "source": [
    "#### importando bibliotecas"
   ]
  },
  {
   "cell_type": "code",
   "execution_count": 1,
   "metadata": {},
   "outputs": [
    {
     "ename": "ModuleNotFoundError",
     "evalue": "No module named 'investpy'",
     "output_type": "error",
     "traceback": [
      "\u001b[1;31m---------------------------------------------------------------------------\u001b[0m",
      "\u001b[1;31mModuleNotFoundError\u001b[0m                       Traceback (most recent call last)",
      "\u001b[1;32m<ipython-input-1-e18ccb9b6431>\u001b[0m in \u001b[0;36m<module>\u001b[1;34m\u001b[0m\n\u001b[0;32m      1\u001b[0m \u001b[1;32mimport\u001b[0m \u001b[0mpandas\u001b[0m \u001b[1;32mas\u001b[0m \u001b[0mpd\u001b[0m\u001b[1;33m\u001b[0m\u001b[1;33m\u001b[0m\u001b[0m\n\u001b[1;32m----> 2\u001b[1;33m \u001b[1;32mimport\u001b[0m \u001b[0minvestpy\u001b[0m\u001b[1;33m\u001b[0m\u001b[1;33m\u001b[0m\u001b[0m\n\u001b[0m\u001b[0;32m      3\u001b[0m \u001b[1;32mfrom\u001b[0m \u001b[0mtqdm\u001b[0m \u001b[1;32mimport\u001b[0m \u001b[0mtqdm\u001b[0m\u001b[1;33m\u001b[0m\u001b[1;33m\u001b[0m\u001b[0m\n\u001b[0;32m      4\u001b[0m \u001b[1;32mimport\u001b[0m \u001b[0mmatplotlib\u001b[0m\u001b[1;33m.\u001b[0m\u001b[0mpyplot\u001b[0m \u001b[1;32mas\u001b[0m \u001b[0mplt\u001b[0m\u001b[1;33m\u001b[0m\u001b[1;33m\u001b[0m\u001b[0m\n\u001b[0;32m      5\u001b[0m \u001b[1;32mimport\u001b[0m \u001b[0mseaborn\u001b[0m \u001b[1;32mas\u001b[0m \u001b[0msns\u001b[0m\u001b[1;33m\u001b[0m\u001b[1;33m\u001b[0m\u001b[0m\n",
      "\u001b[1;31mModuleNotFoundError\u001b[0m: No module named 'investpy'"
     ]
    }
   ],
   "source": [
    "import pandas as pd\n",
    "import investpy\n",
    "from tqdm import tqdm\n",
    "import matplotlib.pyplot as plt\n",
    "import seaborn as sns\n",
    "import numpy as np\n",
    "import datetime as dt\n",
    "from sklearn.cluster import KMeans\n",
    "from math import *\n",
    "import random"
   ]
  },
  {
   "cell_type": "markdown",
   "metadata": {},
   "source": [
    " #### Índice energia elétrica (IEE B3)"
   ]
  },
  {
   "cell_type": "code",
   "execution_count": null,
   "metadata": {},
   "outputs": [],
   "source": [
    "df = pd.read_csv('IEEXDia_08-03-21.csv', sep=';', encoding='latin-1', index_col=False)[:-2]\n",
    "d1 = list(df['Código'].values) \n",
    "d2 = list(df['Qtde. Teórica'].values)\n",
    "list(zip(d1, d2))\n",
    "symbols_iee= dict(zip(d1, d2))\n",
    "len(symbols_iee)"
   ]
  },
  {
   "cell_type": "markdown",
   "metadata": {},
   "source": [
    "#### Índice do setor ndustrial (INDX B3)"
   ]
  },
  {
   "cell_type": "code",
   "execution_count": null,
   "metadata": {},
   "outputs": [],
   "source": [
    "df = pd.read_csv('INDXDia_08-03-21.csv', sep=';', encoding='latin-1', index_col=False)[:-2]\n",
    "d1 = list(df['Código'].values) \n",
    "d2 = list(df['Qtde. Teórica'].values)\n",
    "list(zip(d1, d2))\n",
    "symbols_indx= dict(zip(d1, d2))\n",
    "len(symbols_indx)"
   ]
  },
  {
   "cell_type": "markdown",
   "metadata": {},
   "source": [
    "#### Índice de Fundos de Investimentos Imobiliários de Alta Liquidez (IFIX L B3)"
   ]
  },
  {
   "cell_type": "code",
   "execution_count": null,
   "metadata": {},
   "outputs": [],
   "source": [
    "df = pd.read_csv('IFILDia_08-03-21.csv', sep=';', encoding='latin-1', index_col=False)[:-2]\n",
    "d1 = list(df['Código'].values) \n",
    "d2 = list(df['Qtde. Teórica'].values)\n",
    "list(zip(d1, d2))\n",
    "symbols_ifix= dict(zip(d1, d2))\n",
    "len(symbols_ifix)"
   ]
  },
  {
   "cell_type": "markdown",
   "metadata": {},
   "source": [
    "#### Índice Utilidade Pública BM&FBOVESPA (UTIL B3)"
   ]
  },
  {
   "cell_type": "code",
   "execution_count": null,
   "metadata": {},
   "outputs": [],
   "source": [
    "df = pd.read_csv('UTILDia_08-03-21.csv', sep=';', encoding='latin-1', index_col=False)[:-2]\n",
    "d1 = list(df['Código'].values) \n",
    "d2 = list(df['Qtde. Teórica'].values)\n",
    "list(zip(d1, d2))\n",
    "symbols_util= dict(zip(d1, d2))\n",
    "len(symbols_util)"
   ]
  },
  {
   "cell_type": "markdown",
   "metadata": {},
   "source": [
    "#### Índice de Materiais Básicos BM&FBOVESPA (IMAT B3)"
   ]
  },
  {
   "cell_type": "code",
   "execution_count": null,
   "metadata": {},
   "outputs": [],
   "source": [
    "df = pd.read_csv('IMATDia_08-03-21.csv', sep=';', encoding='latin-1', index_col=False)[:-2]\n",
    "d1 = list(df['Código'].values) \n",
    "d2 = list(df['Qtde. Teórica'].values)\n",
    "list(zip(d1, d2))\n",
    "symbols_imat= dict(zip(d1, d2))\n",
    "len(symbols_imat)"
   ]
  },
  {
   "cell_type": "markdown",
   "metadata": {},
   "source": [
    "###  Separando os ativos com maiores liquidez"
   ]
  },
  {
   "cell_type": "code",
   "execution_count": null,
   "metadata": {},
   "outputs": [],
   "source": [
    "symbols = {}\n",
    "symbols.update(symbols_imat)\n",
    "symbols.update(symbols_iee)\n",
    "symbols.update(symbols_indx)\n",
    "symbols.update(symbols_util)\n",
    "symbols.update(symbols_ifix)\n",
    "len(symbols)"
   ]
  },
  {
   "cell_type": "code",
   "execution_count": null,
   "metadata": {},
   "outputs": [],
   "source": [
    "for elemento in symbols:\n",
    "    frase = symbols[elemento].replace('.', '')\n",
    "    symbols[elemento] = frase"
   ]
  },
  {
   "cell_type": "code",
   "execution_count": null,
   "metadata": {},
   "outputs": [],
   "source": [
    "def separa_maiores(dicionario):\n",
    "    lista = []\n",
    "    for i in range(50):\n",
    "        aux = 0\n",
    "        aux2 = ''\n",
    "        for elemento in dicionario:\n",
    "            if int(dicionario[elemento]) > aux:\n",
    "                aux = int(dicionario[elemento])\n",
    "                aux2 = elemento\n",
    "        if aux not in lista:\n",
    "            lista.append(aux2)\n",
    "        else:\n",
    "            i-=1\n",
    "        del dicionario[aux2]\n",
    "    \n",
    "    return lista\n",
    "            "
   ]
  },
  {
   "cell_type": "code",
   "execution_count": null,
   "metadata": {},
   "outputs": [],
   "source": [
    "lista = separa_maiores(symbols)\n",
    "len(lista)"
   ]
  },
  {
   "cell_type": "code",
   "execution_count": null,
   "metadata": {
    "scrolled": true
   },
   "outputs": [],
   "source": [
    "np.array(lista)"
   ]
  },
  {
   "cell_type": "markdown",
   "metadata": {},
   "source": [
    "### 2. Construa uma amostra de treinamento e outra de teste, sendo a primeira com os 2 primeiros anos e a segunda com 1 ultimo ano."
   ]
  },
  {
   "cell_type": "markdown",
   "metadata": {},
   "source": [
    "#### definimos a amostra de treinamento de 01/01/2016 a 01/01/2018 e amostra de teste o ano de 01/01/2018 a 01/01/2019"
   ]
  },
  {
   "cell_type": "code",
   "execution_count": null,
   "metadata": {
    "scrolled": true
   },
   "outputs": [],
   "source": [
    "output = None\n",
    "cols=[]\n",
    " \n",
    "for symbol in tqdm(lista):\n",
    "    try: \n",
    "        df = investpy.get_stock_historical_data(stock=symbol,\n",
    "                                                country='Brazil',\n",
    "                                                from_date='01/01/2017',\n",
    "                                                to_date='01/01/2019')\n",
    "        cols.append(symbol)\n",
    "\n",
    "        if output is None:\n",
    "            output = df.Close\n",
    "        else:\n",
    "            output = pd.concat([output, df.Close], axis = 1)\n",
    "    except:\n",
    "        print(\"Erro = \"+symbol)\n",
    "output.columns=cols"
   ]
  },
  {
   "cell_type": "code",
   "execution_count": null,
   "metadata": {
    "scrolled": true
   },
   "outputs": [],
   "source": [
    "output=output.dropna(axis='columns')"
   ]
  },
  {
   "cell_type": "markdown",
   "metadata": {},
   "source": [
    "### 3. Na amostra de treinamento, aplique uma clusterização não supervisionada (K-means ou DBSCAN) e separe um ativo para cada cluster, com o critério que desejar (sugestão maior índice Sharpe);"
   ]
  },
  {
   "cell_type": "code",
   "execution_count": null,
   "metadata": {
    "scrolled": true
   },
   "outputs": [],
   "source": [
    "wcss = []\n",
    "retornos=100*output.pct_change()\n",
    "stocks=retornos.columns\n",
    "X=np.array([[np.std(retornos[sto]),np.mean(retornos[sto])] for sto in stocks])\n",
    "for i in range(1, 30):\n",
    "    kmeans = KMeans(n_clusters=i, init='k-means++', max_iter=300, n_init=10, random_state=0)\n",
    "    kmeans.fit(X)\n",
    "    wcss.append(kmeans.inertia_)"
   ]
  },
  {
   "cell_type": "code",
   "execution_count": null,
   "metadata": {},
   "outputs": [],
   "source": [
    "def optimal_number_of_clusters(wcss):\n",
    "    x1, y1 = 2, wcss[0]\n",
    "    x2, y2 = 20, wcss[len(wcss)-1]\n",
    "\n",
    "    distances = []\n",
    "    for i in range(len(wcss)):\n",
    "        x0 = i+2\n",
    "        y0 = wcss[i]\n",
    "        numerator = abs((y2-y1)*x0 - (x2-x1)*y0 + x2*y1 - y2*x1)\n",
    "        denominator = sqrt((y2 - y1)**2 + (x2 - x1)**2)\n",
    "        distances.append(numerator/denominator)\n",
    "    \n",
    "    return distances.index(max(distances)) + 2"
   ]
  },
  {
   "cell_type": "code",
   "execution_count": null,
   "metadata": {
    "scrolled": true
   },
   "outputs": [],
   "source": [
    "retornos=100*output.pct_change()\n",
    "stocks=retornos.columns\n",
    "\n",
    "\n",
    "X=np.array([[np.std(retornos[sto]),np.mean(retornos[sto])] for sto in stocks])\n",
    "\n",
    "N=optimal_number_of_clusters(wcss)\n",
    "\n",
    "kmeans = KMeans(n_clusters=N, random_state=0).fit(X)\n",
    "y_kmeans = kmeans.predict(X)\n",
    "\n",
    "fig = plt.subplots(figsize=(20,5))\n",
    "\n",
    "ax1=plt.subplot(1,1, 1) \n",
    "ax1.scatter(X[:, 0], X[:, 1], c=y_kmeans, s=50, cmap='viridis')\n",
    "ax1.set_title('Retornos de '+str(len(stocks))+' Ações',fontsize=20)\n",
    "ax1.set_xlabel('Risco [%]',fontsize=25)\n",
    "ax1.set_ylabel('Retorno [%]',fontsize=25)\n",
    "\n",
    "centers = kmeans.cluster_centers_\n",
    "plt.scatter(centers[:, 0], centers[:, 1], c='black', s=150, alpha=0.5);\n",
    "\n",
    "best=[]\n",
    "for i in range(N):\n",
    "    ind=retornos[retornos.columns[np.where(y_kmeans==i)[0]]].mean()/retornos[retornos.columns[np.where(y_kmeans==i)[0]]].std()\n",
    "    \n",
    "    best.append(ind[ind==np.max(ind)])\n",
    "rb=list(pd.DataFrame(best).columns)\n",
    "print(\"Ativos com Melhor Relação em Cada Cluster:\", rb)\n",
    "\n",
    "for r in rb:\n",
    "    plt.text(X[stocks==r][0][0],X[stocks==r][0][1],r,fontsize=15)"
   ]
  },
  {
   "cell_type": "markdown",
   "metadata": {},
   "source": [
    "### 4.Aplique a Teoria do Portifólio Modero de Markowitz nos ativos escolhidos no passo anterior, no sentido de alocar um capital de RS 100.000,00;"
   ]
  },
  {
   "cell_type": "code",
   "execution_count": null,
   "metadata": {},
   "outputs": [],
   "source": [
    "rb=list(pd.DataFrame(best).columns)"
   ]
  },
  {
   "cell_type": "code",
   "execution_count": null,
   "metadata": {},
   "outputs": [],
   "source": [
    "df=pd.DataFrame(output[rb])"
   ]
  },
  {
   "cell_type": "code",
   "execution_count": null,
   "metadata": {
    "scrolled": true
   },
   "outputs": [],
   "source": [
    "ret=df.diff().dropna().copy()\n",
    "ret=100*ret/df.iloc[0]\n",
    "ret=ret.drop(['ELET3'], axis=1)"
   ]
  },
  {
   "cell_type": "code",
   "execution_count": null,
   "metadata": {},
   "outputs": [],
   "source": [
    "def Portfolios(ret,ports):\n",
    "    retp=[]\n",
    "    risp=[]\n",
    "    C=ret.cov()\n",
    "    MU=ret.mean()\n",
    "    SIG=ret.std()\n",
    "    N=len(ret.columns)\n",
    "    for i in tqdm(range(ports)):\n",
    "        q = [random.randint(0,10000) for n in range(1,N+1)]\n",
    "        s = sum(q)\n",
    "        q = [ i/s for i in q ]\n",
    "\n",
    "        retp.append(np.dot(pd.DataFrame(q).transpose(),MU[0]))\n",
    "        risp.append(np.sqrt(np.dot(np.dot(pd.DataFrame(q).transpose(),C),pd.DataFrame(q)))[0][0])\n",
    "    return retp, risp, SIG, MU\n",
    "    \n",
    "retp, risp, SIG, MU=Portfolios(ret,1000)"
   ]
  },
  {
   "cell_type": "code",
   "execution_count": null,
   "metadata": {},
   "outputs": [],
   "source": [
    "def TPM_Fronteira(ret,N):\n",
    "    C=ret.cov()\n",
    "    MU=ret.mean()\n",
    "    ONE=np.ones(len(ret.columns))\n",
    "    #N=1000\n",
    "    a=np.dot(pd.DataFrame(MU).transpose(),np.dot(np.linalg.inv(C),pd.DataFrame(MU)))\n",
    "    b=np.dot(pd.DataFrame(ONE).transpose(),np.dot(np.linalg.inv(C),pd.DataFrame(MU)))\n",
    "    c=np.dot(pd.DataFrame(MU).transpose(),np.dot(np.linalg.inv(C),pd.DataFrame(ONE)))\n",
    "    d=np.dot(pd.DataFrame(ONE).transpose(),np.dot(np.linalg.inv(C),pd.DataFrame(ONE)))\n",
    "    target_mus=np.arange(-0.5,1.0,0.002)\n",
    "    risk_at_target_mus=np.zeros(len(target_mus))\n",
    "    for i in tqdm(range(0, len(target_mus))):\n",
    "        target_mu=target_mus[i]\n",
    "        v1=np.linalg.det([[target_mu,b[0][0]],[1,d[0][0]]])*np.dot(np.linalg.inv(C),pd.DataFrame(MU))\n",
    "        v2=np.linalg.det([[a[0][0],target_mu],[c[0][0],1]])*np.dot(np.linalg.inv(C),pd.DataFrame(ONE))\n",
    "        v3=np.linalg.det([[a[0][0],b[0][0]],[c[0][0],d[0][0]]])\n",
    "        opt_q=(v1+v2)/v3\n",
    "        risk_at_target_mus[i]=(np.dot(np.dot(pd.DataFrame(opt_q).transpose(),C),pd.DataFrame(opt_q)))**0.5\n",
    "    return risk_at_target_mus, target_mus\n",
    "\n",
    "risk_at_target_mus, target_mus = TPM_Fronteira(ret,1000)"
   ]
  },
  {
   "cell_type": "code",
   "execution_count": null,
   "metadata": {},
   "outputs": [],
   "source": [
    "def TPM_Menor_Risco(ret):\n",
    "    C=ret.cov()\n",
    "    MU=ret.mean()\n",
    "    ONE=np.ones(len(ret.columns))\n",
    "    d=np.dot(pd.DataFrame(ONE).transpose(),np.dot(np.linalg.inv(C),pd.DataFrame(ONE)))\n",
    "    q_minrisk=np.dot(np.linalg.inv(C),pd.DataFrame(ONE))/d\n",
    "    mu_minrisk=np.dot(q_minrisk.transpose(),MU.values)\n",
    "    risk_minrisk=(np.dot(np.dot(pd.DataFrame(q_minrisk).transpose(),C),pd.DataFrame(q_minrisk)))**0.5\n",
    "    return q_minrisk,mu_minrisk,risk_minrisk\n",
    "\n",
    "q_minrisk,mu_minrisk,risk_minrisk = TPM_Menor_Risco(ret)"
   ]
  },
  {
   "cell_type": "code",
   "execution_count": null,
   "metadata": {},
   "outputs": [],
   "source": [
    "def TPM_Maior_Sharpe(ret,N):\n",
    "    C=ret.cov()\n",
    "    MU=ret.mean()\n",
    "    ONE=np.ones(len(ret.columns))\n",
    "    rf=0.00\n",
    "    temp=np.dot(np.linalg.inv(C),pd.DataFrame(MU-np.dot(ONE,rf)))\n",
    "    qm=temp/temp.sum()\n",
    "    mu_m=np.dot(qm.transpose(),MU)\n",
    "    sigma_m=(np.dot(np.dot(pd.DataFrame(qm).transpose(),C),pd.DataFrame(qm)))**0.5\n",
    "    return qm,mu_m,sigma_m\n",
    "\n",
    "qm,mu_m,sigma_m = TPM_Maior_Sharpe(ret,1000)"
   ]
  },
  {
   "cell_type": "code",
   "execution_count": null,
   "metadata": {},
   "outputs": [],
   "source": [
    "fig = plt.subplots(figsize=(20,8))\n",
    "ax1=plt.subplot(1,2, 1) \n",
    "for p in range(0,len(retp)):\n",
    "    plt.plot(risp[p], retp[p], 'g*', markersize=5.0)  \n",
    "#plt.plot(100*risk_minrisk,100*mu_minrisk,'k*',markersize=15.0)\n",
    "\n",
    "ax1.plot(risk_at_target_mus,target_mus,'b*')\n",
    "ax1.plot(risk_minrisk,mu_minrisk,'k*',markersize=25)\n",
    "\n",
    "ax1.plot(sigma_m,mu_m,'m*',markersize=25)\n",
    "\n",
    "\n",
    "plt.axis([-0.5,np.max(SIG)+0.05,np.min(MU)-0.01,np.max(MU)+.07])\n",
    "ax1.axvline(x= 0, color= 'k',linestyle='dashed',linewidth=4)\n",
    "for p in range(0,len(SIG)):\n",
    "    plt.plot(SIG[p], MU[p], 'y*', markersize=15.0) \n",
    "    plt.text(SIG[p]+0.01, MU[p],'r'+str(p+1) , fontsize=16)\n",
    "\n",
    "ret['port']=pd.DataFrame(ret*[qm[i][0] for i in range(len(qm))]).sum(axis=1)\n",
    "pesos=[qm[i][0] for i in range(len(qm))]+[1]\n",
    "ax1.set_xlabel(\"Risco do Capital [%]\",fontsize=15)\n",
    "ax1.set_ylabel('Retorno do Capital [%]',fontsize=15)\n",
    "ax1.set_title(\"'Teoria Moderna do Portfólio - Markowitz (1952)\",fontsize=20)  \n",
    "\n",
    "ax2=plt.subplot(1,2, 2) \n",
    "\n",
    "for i in range(len(ret.columns)):\n",
    "    labeldf=ret.columns[i]+\", retorno [%]= \"+str(round(ret.mean()[i],2)) +\", risco [%]= \"+str(round(ret.std()[i],2))\n",
    "    if i!=max(range(len(ret.columns))):\n",
    "        ax2.plot(ret[ret.columns[i]].cumsum(),label=labeldf+\", representação na carteira = \"+str(round(pesos[i],2)))     \n",
    "    if i==max(range(len(ret.columns))):\n",
    "        ax2.plot(ret[ret.columns[i]].cumsum(),linewidth=5.0,label=labeldf+\", representação na carteira = \"+str(round(pesos[i],2)))  \n",
    "\n",
    "ax2.legend(loc='upper left')\n",
    "ax2.set_xlabel(\"Dias\",fontsize=15)\n",
    "ax2.set_ylabel('Capital [%]',fontsize=15)\n",
    "ax2.set_title(\"Ativos e Portifolio\",fontsize=20) \n",
    "print()\n",
    "print('Os pesos dos ativos no portifólio de menor risco:',[round(qm[i][0],2) for i in range(len(qm))])\n",
    "print()\n",
    "\n",
    "\n",
    "ret=ret.drop(columns=['port'])"
   ]
  },
  {
   "cell_type": "markdown",
   "metadata": {},
   "source": [
    "### 5.Verifique o resultado da alocação de capital com Markowitz nos ativos separados, na fase de treinamento, na amostra de teste que representa o último ano da aquisição;"
   ]
  },
  {
   "cell_type": "code",
   "execution_count": null,
   "metadata": {
    "scrolled": true
   },
   "outputs": [],
   "source": [
    "ativos = ret.columns"
   ]
  },
  {
   "cell_type": "code",
   "execution_count": null,
   "metadata": {},
   "outputs": [],
   "source": [
    "np.array(ativos)"
   ]
  },
  {
   "cell_type": "code",
   "execution_count": null,
   "metadata": {},
   "outputs": [],
   "source": [
    "output = None\n",
    "cols=[] \n",
    "for symbol in tqdm(ativos):\n",
    "    try: \n",
    "        df = investpy.get_stock_historical_data(stock=symbol,\n",
    "                                                country='Brazil',\n",
    "                                                from_date='01/01/2019',\n",
    "                                                to_date='01/01/2020')\n",
    "        cols.append(symbol)\n",
    "\n",
    "        if output is None:\n",
    "            output = df.Close\n",
    "        else:\n",
    "            output = pd.concat([output, df.Close], axis = 1)\n",
    "    except:\n",
    "        print(\"Erro = \"+symbol)\n",
    "output.columns=cols"
   ]
  },
  {
   "cell_type": "code",
   "execution_count": null,
   "metadata": {},
   "outputs": [],
   "source": [
    "output.drop([])"
   ]
  },
  {
   "cell_type": "markdown",
   "metadata": {},
   "source": [
    "### 6. Descreva suas impressões relativas ao processo e resultado encontrados."
   ]
  }
 ],
 "metadata": {
  "kernelspec": {
   "display_name": "Python 3",
   "language": "python",
   "name": "python3"
  },
  "language_info": {
   "codemirror_mode": {
    "name": "ipython",
    "version": 3
   },
   "file_extension": ".py",
   "mimetype": "text/x-python",
   "name": "python",
   "nbconvert_exporter": "python",
   "pygments_lexer": "ipython3",
   "version": "3.8.5"
  }
 },
 "nbformat": 4,
 "nbformat_minor": 5
}
